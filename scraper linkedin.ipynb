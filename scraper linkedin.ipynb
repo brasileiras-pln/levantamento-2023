{
 "cells": [
  {
   "cell_type": "code",
   "execution_count": 1,
   "id": "7c61c042",
   "metadata": {},
   "outputs": [],
   "source": [
    "from selenium import webdriver\n",
    "from selenium.webdriver.common.keys import Keys\n",
    "from selenium.webdriver.common.by import By\n",
    "from selenium.webdriver.support.ui import WebDriverWait\n",
    "from selenium.webdriver.support import expected_conditions as EC\n",
    "from selenium import webdriver\n",
    "from selenium.webdriver.chrome.service import Service\n",
    "from selenium.webdriver.common.by import By\n",
    "\n",
    "from bs4 import BeautifulSoup as bs\n",
    "import re \n",
    "import time\n",
    "import pandas as pd\n",
    "import numpy as np\n",
    "from unidecode import unidecode\n",
    "from parsel import Selector\n",
    "import os"
   ]
  },
  {
   "cell_type": "code",
   "execution_count": 2,
   "id": "c4e55dca",
   "metadata": {},
   "outputs": [],
   "source": [
    "def standardize_link(url):\n",
    "    \n",
    "    if isinstance(url,str):\n",
    "        if unidecode(url.lower()) == \"nao tenho\":\n",
    "            return\n",
    "        else:\n",
    "            return url\n",
    "    else:\n",
    "        if np.isnan(url):\n",
    "            return\n"
   ]
  },
  {
   "cell_type": "code",
   "execution_count": 3,
   "id": "85f6fe88",
   "metadata": {},
   "outputs": [],
   "source": [
    "PATH = r\"chromedriver_linux64/chromedriver\"\n",
    "USERNAME = \"\"\n",
    "PASSWORD = \"\"\n",
    "OUTPUTDIR = \"data_profiles_html\""
   ]
  },
  {
   "cell_type": "code",
   "execution_count": 4,
   "id": "b7b858a2",
   "metadata": {},
   "outputs": [],
   "source": [
    "ser = Service(PATH)\n",
    "op = webdriver.ChromeOptions()\n",
    "driver = webdriver.Chrome(service=ser)"
   ]
  },
  {
   "cell_type": "code",
   "execution_count": 5,
   "id": "f3e2460f",
   "metadata": {},
   "outputs": [],
   "source": [
    "driver.get(\"https://www.linkedin.com/uas/login\")\n",
    "time.sleep(3)"
   ]
  },
  {
   "cell_type": "code",
   "execution_count": 6,
   "id": "6efc66e1",
   "metadata": {},
   "outputs": [],
   "source": [
    "email = driver.find_element(By.ID, \"username\")\n",
    "email.send_keys(USERNAME)\n",
    "password = driver.find_element(By.ID, \"password\")\n",
    "password.send_keys(PASSWORD)\n",
    "time.sleep(3)\n",
    "password.send_keys(Keys.RETURN)"
   ]
  },
  {
   "cell_type": "code",
   "execution_count": 7,
   "id": "5b6a384e",
   "metadata": {},
   "outputs": [],
   "source": [
    "df_ids = pd.read_csv(\"lattes_linkedin3.csv\")"
   ]
  },
  {
   "cell_type": "code",
   "execution_count": 8,
   "id": "1ab04ae0",
   "metadata": {},
   "outputs": [],
   "source": [
    "link_lst = df_ids[\"ID Linkedin\"].tolist()"
   ]
  },
  {
   "cell_type": "code",
   "execution_count": 9,
   "id": "a68e9b79",
   "metadata": {},
   "outputs": [],
   "source": [
    "new_link_lst = [standardize_link(link)  for link in link_lst if standardize_link(link) != None]"
   ]
  },
  {
   "cell_type": "code",
   "execution_count": 10,
   "id": "dd241dcd",
   "metadata": {},
   "outputs": [
    {
     "name": "stdout",
     "output_type": "stream",
     "text": [
      "['https://www.linkedin.com/in/alineevers/', 'https://www.linkedin.com/in/aline-macohin/', 'https://www.linkedin.com/in/oliveirasamanda/', 'linkedin.com/in/amanda-rassi-b723aa61', 'https://www.linkedin.com/in/ana-cleide-vieira-gomes-guimbal-de-aquino-37709246/', 'www.linkedin.com/in/anapaulazanettineves', 'linkedin.com/in/ana-régia-mendonça-7aa7011b6', 'https://www.linkedin.com/in/araceli-marcia-saldanha-a01b7a186/', 'https://www.linkedin.com/in/barbarastneves/', 'beatriz-santana', 'www.linkedin.com/in/brendasalenave', 'https://www.linkedin.com/in/carolina-gadelha-858718175/', 'https://www.linkedin.com/in/clarissa-lenina-scandarolli/', 'https://www.linkedin.com/in/clarissacx/', 'linkedin.com/in/cláudia-freitas-0532a319a', 'https://www.linkedin.com/in/cristinaajs/', 'https://www.linkedin.com/in/danielabarreiroclaro/', 'https://es.linkedin.com/in/danielly-sorato-24a027117', 'https://www.linkedin.com/in/elisa-terumi-rubel-schneider/', 'https://www.linkedin.com/in/ellenprspereira/', 'https://www.linkedin.com/in/erica-carneiro-digital-marketing-data-scientist/', 'https://www.linkedin.com/in/evelin-carvalho-75082218/', 'https://www.linkedin.com/in/esteroliveira1999/', 'https://www.linkedin.com/in/francine-facchin-esteves/', 'helena-caseli-799495177', 'https://www.linkedin.com/in/heloisa-fernanda-rocha/', 'https://www.linkedin.com/in/janasabino/', 'https://www.linkedin.com/in/jasminemoreira2013/', 'https://www.linkedin.com/in/jessica-rodrigues-silva/', 'https://www.linkedin.com/in/jessicka-oliveira-de-assis/', 'https://www.linkedin.com/in/josilainecezar/', 'https://www.linkedin.com/in/julia-duarte-27a116128/', 'https://www.linkedin.com/in/julia-caetanoj/', 'https://www.linkedin.com/in/juliana-resplande/', 'https://www.linkedin.com/in/kamila-ribeiro-089778152/', 'https://www.linkedin.com/in/soareskarina/', 'https://www.linkedin.com/in/katiusciamoraesandrade/', 'https://www.linkedin.com/in/larissa-freitas-78a28829/', 'https://www.linkedin.com/in/iza-freitas/', 'https://www.linkedin.com/in/leticia-gabriella-852838101/', 'www.linkedin.com/in/livy-real', 'lucianabencke', 'https://www.linkedin.com/in/ludimilagoncalves/', 'https://www.linkedin.com/in/gra%C3%A7a-nunes-69362b161/', 'linkedin.com/in/maria-josé-bocorny-finatto-694b74178', 'https://www.linkedin.com/in/maxilene-faria/', 'https://www.linkedin.com/in/nataliacf1208/', 'www.linkedin.com/in/natalia-c-a-resende', 'https://www.linkedin.com/in/paola-de-la-cruz-romao/', 'https://www.linkedin.com/in/patricia-pampanelli/', 'https://www.linkedin.com/in/patriciazago/', 'https://www.linkedin.com/in/paula-christina-figueira-cardoso-92b611152/', 'https://www.linkedin.com/in/priscillansantos/', 'https://www.linkedin.com/in/roberta-viola-%F0%9F%8F%B3%EF%B8%8F%E2%80%8D%F0%9F%8C%88-776bba181', 'https://www.linkedin.com/in/rossana/', 'https://www.linkedin.com/in/dr-sheila-castilho-0550b030/', 'https://www.linkedin.com/in/sibylla-jockymann-29826b35/', 'https://www.linkedin.com/in/suemi-higuchi/', 'https://www.linkedin.com/in/tali-oliveira/', 'https://www.linkedin.com/in/tatiana-gama/', 'https://www.linkedin.com/in/tatiane-macedo-costa-2aa208102/', 'https://www.linkedin.com/in/tayane-s-3253b919b', 'https://www.linkedin.com/in/thaisluca/', 'https://www.linkedin.com/in/ticiana-linhares-42225016/', 'www.linkedin.com/in/valeriadepaiva/', 'valeria-delisandra-feltrim-2b70235', 'https://www.linkedin.com/in/victorialacerda/', 'https://www.linkedin.com/in/viviane-moreira-ufrgs/', 'https://www.linkedin.com/in/vládia-pinheiro-32868261/']\n"
     ]
    }
   ],
   "source": [
    "print(new_link_lst)"
   ]
  },
  {
   "cell_type": "code",
   "execution_count": 11,
   "id": "124058ab",
   "metadata": {},
   "outputs": [],
   "source": [
    "http_url_re = re.compile(\"^https?:\\\\/\\\\/(?:www\\\\.)?[-a-zA-Z0-9@:%._\\\\+~#=]{1,256}\\\\.[a-zA-Z0-9()]{1,6}\\\\b(?:[-a-zA-Z0-9()@:%_\\\\+.~#?&\\\\/=]*)$\")\n",
    "www_url_re = re.compile(\"^(?:www\\\\.)?[-a-zA-Z0-9@:%._\\\\+~#=]{1,256}\\\\.[a-zA-Z0-9()]{1,6}\\\\b(?:[-a-zA-Z0-9()@:%_\\\\+.~#?&\\\\/=]*)$\")"
   ]
  },
  {
   "cell_type": "code",
   "execution_count": 12,
   "id": "68071f8d",
   "metadata": {},
   "outputs": [],
   "source": [
    "def uniform_links(link_lst):\n",
    "    ans = []\n",
    "    for url in new_link_lst:\n",
    "        if not(url.startswith(\"https://www\")):\n",
    "            if http_url_re.match(url) is None:\n",
    "                if www_url_re.match(url) is None:\n",
    "                    if url.find(\"linkedin.com/in/\") != -1:\n",
    "                        ans.append(\"https://www.\" + url)\n",
    "                    else:\n",
    "                        ans.append(\"https://www.linkedin.com/in/\"+url)\n",
    "                else:\n",
    "                    ans.append(\"https://\"+url)\n",
    "            else:\n",
    "                ans.append(url)\n",
    "        else:\n",
    "            ans.append(url)\n",
    "    return ans\n",
    "        "
   ]
  },
  {
   "cell_type": "code",
   "execution_count": 13,
   "id": "ed6580a3",
   "metadata": {},
   "outputs": [],
   "source": [
    "def get_file_name(output_dir,url):\n",
    "    ans =  url[28:].replace(\"/\",\"\")\n",
    "    ans = ans.replace(\"-\",\"_\")\n",
    "    ans = ans.replace(\"%\",\"\")\n",
    "    return os.path.join(output_dir, ans + \".html\")"
   ]
  },
  {
   "cell_type": "code",
   "execution_count": 14,
   "id": "98a0db15",
   "metadata": {},
   "outputs": [
    {
     "name": "stdout",
     "output_type": "stream",
     "text": [
      "['https://www.linkedin.com/in/alineevers/', 'https://www.linkedin.com/in/aline-macohin/', 'https://www.linkedin.com/in/oliveirasamanda/', 'https://linkedin.com/in/amanda-rassi-b723aa61', 'https://www.linkedin.com/in/ana-cleide-vieira-gomes-guimbal-de-aquino-37709246/', 'https://www.linkedin.com/in/anapaulazanettineves', 'https://www.linkedin.com/in/ana-régia-mendonça-7aa7011b6', 'https://www.linkedin.com/in/araceli-marcia-saldanha-a01b7a186/', 'https://www.linkedin.com/in/barbarastneves/', 'https://www.linkedin.com/in/beatriz-santana', 'https://www.linkedin.com/in/brendasalenave', 'https://www.linkedin.com/in/carolina-gadelha-858718175/', 'https://www.linkedin.com/in/clarissa-lenina-scandarolli/', 'https://www.linkedin.com/in/clarissacx/', 'https://www.linkedin.com/in/cláudia-freitas-0532a319a', 'https://www.linkedin.com/in/cristinaajs/', 'https://www.linkedin.com/in/danielabarreiroclaro/', 'https://es.linkedin.com/in/danielly-sorato-24a027117', 'https://www.linkedin.com/in/elisa-terumi-rubel-schneider/', 'https://www.linkedin.com/in/ellenprspereira/', 'https://www.linkedin.com/in/erica-carneiro-digital-marketing-data-scientist/', 'https://www.linkedin.com/in/evelin-carvalho-75082218/', 'https://www.linkedin.com/in/esteroliveira1999/', 'https://www.linkedin.com/in/francine-facchin-esteves/', 'https://www.linkedin.com/in/helena-caseli-799495177', 'https://www.linkedin.com/in/heloisa-fernanda-rocha/', 'https://www.linkedin.com/in/janasabino/', 'https://www.linkedin.com/in/jasminemoreira2013/', 'https://www.linkedin.com/in/jessica-rodrigues-silva/', 'https://www.linkedin.com/in/jessicka-oliveira-de-assis/', 'https://www.linkedin.com/in/josilainecezar/', 'https://www.linkedin.com/in/julia-duarte-27a116128/', 'https://www.linkedin.com/in/julia-caetanoj/', 'https://www.linkedin.com/in/juliana-resplande/', 'https://www.linkedin.com/in/kamila-ribeiro-089778152/', 'https://www.linkedin.com/in/soareskarina/', 'https://www.linkedin.com/in/katiusciamoraesandrade/', 'https://www.linkedin.com/in/larissa-freitas-78a28829/', 'https://www.linkedin.com/in/iza-freitas/', 'https://www.linkedin.com/in/leticia-gabriella-852838101/', 'https://www.linkedin.com/in/livy-real', 'https://www.linkedin.com/in/lucianabencke', 'https://www.linkedin.com/in/ludimilagoncalves/', 'https://www.linkedin.com/in/gra%C3%A7a-nunes-69362b161/', 'https://www.linkedin.com/in/maria-josé-bocorny-finatto-694b74178', 'https://www.linkedin.com/in/maxilene-faria/', 'https://www.linkedin.com/in/nataliacf1208/', 'https://www.linkedin.com/in/natalia-c-a-resende', 'https://www.linkedin.com/in/paola-de-la-cruz-romao/', 'https://www.linkedin.com/in/patricia-pampanelli/', 'https://www.linkedin.com/in/patriciazago/', 'https://www.linkedin.com/in/paula-christina-figueira-cardoso-92b611152/', 'https://www.linkedin.com/in/priscillansantos/', 'https://www.linkedin.com/in/roberta-viola-%F0%9F%8F%B3%EF%B8%8F%E2%80%8D%F0%9F%8C%88-776bba181', 'https://www.linkedin.com/in/rossana/', 'https://www.linkedin.com/in/dr-sheila-castilho-0550b030/', 'https://www.linkedin.com/in/sibylla-jockymann-29826b35/', 'https://www.linkedin.com/in/suemi-higuchi/', 'https://www.linkedin.com/in/tali-oliveira/', 'https://www.linkedin.com/in/tatiana-gama/', 'https://www.linkedin.com/in/tatiane-macedo-costa-2aa208102/', 'https://www.linkedin.com/in/tayane-s-3253b919b', 'https://www.linkedin.com/in/thaisluca/', 'https://www.linkedin.com/in/ticiana-linhares-42225016/', 'https://www.linkedin.com/in/valeriadepaiva/', 'https://www.linkedin.com/in/valeria-delisandra-feltrim-2b70235', 'https://www.linkedin.com/in/victorialacerda/', 'https://www.linkedin.com/in/viviane-moreira-ufrgs/', 'https://www.linkedin.com/in/vládia-pinheiro-32868261/']\n"
     ]
    }
   ],
   "source": [
    "uni_links = uniform_links(new_link_lst)\n",
    "print(uni_links)"
   ]
  },
  {
   "cell_type": "code",
   "execution_count": 15,
   "id": "c94d1825",
   "metadata": {},
   "outputs": [
    {
     "name": "stdout",
     "output_type": "stream",
     "text": [
      "https://www.linkedin.com/in/alineevers/\n",
      "https://www.linkedin.com/in/aline-macohin/\n",
      "https://www.linkedin.com/in/oliveirasamanda/\n",
      "https://linkedin.com/in/amanda-rassi-b723aa61\n",
      "https://www.linkedin.com/in/ana-cleide-vieira-gomes-guimbal-de-aquino-37709246/\n",
      "https://www.linkedin.com/in/anapaulazanettineves\n",
      "https://www.linkedin.com/in/ana-régia-mendonça-7aa7011b6\n",
      "https://www.linkedin.com/in/araceli-marcia-saldanha-a01b7a186/\n",
      "https://www.linkedin.com/in/barbarastneves/\n",
      "https://www.linkedin.com/in/beatriz-santana\n",
      "https://www.linkedin.com/in/brendasalenave\n",
      "https://www.linkedin.com/in/carolina-gadelha-858718175/\n",
      "https://www.linkedin.com/in/clarissa-lenina-scandarolli/\n",
      "https://www.linkedin.com/in/clarissacx/\n",
      "https://www.linkedin.com/in/cláudia-freitas-0532a319a\n",
      "https://www.linkedin.com/in/cristinaajs/\n",
      "https://www.linkedin.com/in/danielabarreiroclaro/\n",
      "https://es.linkedin.com/in/danielly-sorato-24a027117\n",
      "https://www.linkedin.com/in/elisa-terumi-rubel-schneider/\n",
      "https://www.linkedin.com/in/ellenprspereira/\n",
      "https://www.linkedin.com/in/erica-carneiro-digital-marketing-data-scientist/\n",
      "https://www.linkedin.com/in/evelin-carvalho-75082218/\n",
      "https://www.linkedin.com/in/esteroliveira1999/\n",
      "https://www.linkedin.com/in/francine-facchin-esteves/\n",
      "https://www.linkedin.com/in/helena-caseli-799495177\n",
      "https://www.linkedin.com/in/heloisa-fernanda-rocha/\n",
      "https://www.linkedin.com/in/janasabino/\n",
      "https://www.linkedin.com/in/jasminemoreira2013/\n",
      "https://www.linkedin.com/in/jessica-rodrigues-silva/\n",
      "https://www.linkedin.com/in/jessicka-oliveira-de-assis/\n",
      "https://www.linkedin.com/in/josilainecezar/\n",
      "https://www.linkedin.com/in/julia-duarte-27a116128/\n",
      "https://www.linkedin.com/in/julia-caetanoj/\n",
      "https://www.linkedin.com/in/juliana-resplande/\n",
      "https://www.linkedin.com/in/kamila-ribeiro-089778152/\n",
      "https://www.linkedin.com/in/soareskarina/\n",
      "https://www.linkedin.com/in/katiusciamoraesandrade/\n",
      "https://www.linkedin.com/in/larissa-freitas-78a28829/\n",
      "https://www.linkedin.com/in/iza-freitas/\n",
      "https://www.linkedin.com/in/leticia-gabriella-852838101/\n",
      "https://www.linkedin.com/in/livy-real\n",
      "https://www.linkedin.com/in/lucianabencke\n",
      "https://www.linkedin.com/in/ludimilagoncalves/\n",
      "https://www.linkedin.com/in/gra%C3%A7a-nunes-69362b161/\n",
      "https://www.linkedin.com/in/maria-josé-bocorny-finatto-694b74178\n",
      "https://www.linkedin.com/in/maxilene-faria/\n",
      "https://www.linkedin.com/in/nataliacf1208/\n",
      "https://www.linkedin.com/in/natalia-c-a-resende\n",
      "https://www.linkedin.com/in/paola-de-la-cruz-romao/\n",
      "https://www.linkedin.com/in/patricia-pampanelli/\n",
      "https://www.linkedin.com/in/patriciazago/\n",
      "https://www.linkedin.com/in/paula-christina-figueira-cardoso-92b611152/\n",
      "https://www.linkedin.com/in/priscillansantos/\n",
      "https://www.linkedin.com/in/roberta-viola-%F0%9F%8F%B3%EF%B8%8F%E2%80%8D%F0%9F%8C%88-776bba181\n",
      "https://www.linkedin.com/in/rossana/\n",
      "https://www.linkedin.com/in/dr-sheila-castilho-0550b030/\n",
      "https://www.linkedin.com/in/sibylla-jockymann-29826b35/\n",
      "https://www.linkedin.com/in/suemi-higuchi/\n",
      "https://www.linkedin.com/in/tali-oliveira/\n",
      "https://www.linkedin.com/in/tatiana-gama/\n",
      "https://www.linkedin.com/in/tatiane-macedo-costa-2aa208102/\n",
      "https://www.linkedin.com/in/tayane-s-3253b919b\n",
      "https://www.linkedin.com/in/thaisluca/\n",
      "https://www.linkedin.com/in/ticiana-linhares-42225016/\n",
      "https://www.linkedin.com/in/valeriadepaiva/\n",
      "https://www.linkedin.com/in/valeria-delisandra-feltrim-2b70235\n",
      "https://www.linkedin.com/in/victorialacerda/\n",
      "https://www.linkedin.com/in/viviane-moreira-ufrgs/\n",
      "https://www.linkedin.com/in/vládia-pinheiro-32868261/\n"
     ]
    }
   ],
   "source": [
    "# For loop to iterate over each URL in the list\n",
    "for linkedin_url in uni_links:\n",
    "    print(linkedin_url)\n",
    "    # get the profile URL \n",
    "    driver.get(linkedin_url)\n",
    "\n",
    "\n",
    "    # add a 5 second pause loading each URL\n",
    "    time.sleep(5)\n",
    "\n",
    "    # assigning the source code for the webpage to variable sel\n",
    "    #sel = Selector(text=driver.page_source) \n",
    "    with open(get_file_name(OUTPUTDIR, linkedin_url ), \"w\") as fd:\n",
    "        fd.write(driver.page_source)\n",
    "    \n",
    "\n",
    "# terminates the application\n",
    "driver.quit()"
   ]
  },
  {
   "cell_type": "code",
   "execution_count": null,
   "id": "e47cf429",
   "metadata": {},
   "outputs": [],
   "source": [
    "len(\"https://www.linkedin.com/in/\")"
   ]
  },
  {
   "cell_type": "code",
   "execution_count": null,
   "id": "921f98d7",
   "metadata": {},
   "outputs": [],
   "source": []
  }
 ],
 "metadata": {
  "kernelspec": {
   "display_name": "venv",
   "language": "python",
   "name": "venv"
  },
  "language_info": {
   "codemirror_mode": {
    "name": "ipython",
    "version": 3
   },
   "file_extension": ".py",
   "mimetype": "text/x-python",
   "name": "python",
   "nbconvert_exporter": "python",
   "pygments_lexer": "ipython3",
   "version": "3.10.6"
  }
 },
 "nbformat": 4,
 "nbformat_minor": 5
}
